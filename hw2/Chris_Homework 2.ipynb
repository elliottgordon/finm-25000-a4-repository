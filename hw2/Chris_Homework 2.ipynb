{
 "cells": [
  {
   "cell_type": "markdown",
   "id": "e3eee68c",
   "metadata": {},
   "source": [
    "# Homework 2\n",
    "\n",
    "## FINM 25000 - 2025\n",
    "\n",
    "### UChicago Financial Mathematics\n",
    "\n",
    "* Mark Hendricks\n",
    "* hendricks@uchicago.edu\n",
    "\n",
    "## HBS Case\n",
    "\n",
    "### *ProShares Hedge Replication ETF*"
   ]
  },
  {
   "cell_type": "markdown",
   "id": "3ed4b263",
   "metadata": {},
   "source": [
    "***"
   ]
  },
  {
   "cell_type": "markdown",
   "id": "32a1eb4b",
   "metadata": {},
   "source": [
    "# 1. The ProShares ETF Product\n",
    "\n",
    "**Section 1 is not graded**, and you do not need to submit your answers. But you are encouraged to think about them, and we will discuss them."
   ]
  },
  {
   "cell_type": "markdown",
   "id": "976c4cd6",
   "metadata": {},
   "source": [
    "## 1. Alternative ETFs\n",
    "\n",
    "Describe the two types of investments referenced by this term."
   ]
  },
  {
   "cell_type": "markdown",
   "id": "a350c607",
   "metadata": {},
   "source": [
    "## 2. Hedge Funds.\n",
    "\n",
    "\n",
    "* a. Using just the information in the case, what are two measures by which hedge funds are an attractive investment?\n",
    "  - ??\n",
    "\n",
    "* b. What are the main benefits of investing in hedge funds via an ETF instead of directly?\n",
    "  - you can see real time value?"
   ]
  },
  {
   "cell_type": "markdown",
   "id": "f1c6d57d",
   "metadata": {},
   "source": [
    "## 3. The Benchmarks\n",
    "\n",
    "* a. Explain as simply as possible how HFRI, MLFM, MLFM-ES, and HDG differ in their construction and purpose.\n",
    "\n",
    "\n",
    "* b. How well does the Merrill Lynch Factor Model (MLFM) track the HFRI?\n",
    "\n",
    "* c. In which factor does the MLFM have the largest loading? (See a slide in Exhibit 1.)\n",
    "\n",
    "\n",
    "* d. What are the main concerns you have for how the MLFM attempts to replicate the HFRI?\n"
   ]
  },
  {
   "cell_type": "markdown",
   "id": "8247c669",
   "metadata": {},
   "source": [
    "## 4. The HDG Product\n",
    "\n",
    "* a. What does ProShares ETF, HDG, attempt to track? Is the tracking error small?\n",
    "\n",
    "* b. HDG is, by construction, delivering beta for investors. Isn't the point of hedge funds to generate alpha? Then why would HDG be valuable?\n",
    "\n",
    "* c. The fees of a typical hedge-fund are 2% on total assets plus 20% of excess returns if positive. HDG's expense ratio is roughly 1% on total assets. What would their respective net Sharpe Ratios be, assuming both have a gross excess returns of 10% and volatility of 20%?"
   ]
  },
  {
   "cell_type": "markdown",
   "id": "ecd7e292",
   "metadata": {},
   "source": [
    "***"
   ]
  },
  {
   "cell_type": "markdown",
   "id": "fbbf79a1",
   "metadata": {},
   "source": [
    "# 2.  Analyzing the Data\n",
    "\n",
    "Use the data found on Canvas, in <b>'proshares analysis data.xlsx'</b>. \n",
    "\n",
    "It has monthly data on financial indexes and ETFs from `Aug 2011` through `May 2025`."
   ]
  },
  {
   "cell_type": "markdown",
   "id": "22b7389c",
   "metadata": {},
   "source": [
    "## 1. \n",
    "\n",
    "For the series in the \"hedge fund series\" tab, report the following summary statistics:\n",
    "* mean\n",
    "* volatility\n",
    "* Sharpe ratio\n",
    "\n",
    "Annualize these statistics."
   ]
  },
  {
   "cell_type": "code",
   "execution_count": 77,
   "id": "a5889f4d",
   "metadata": {},
   "outputs": [],
   "source": [
    "import pandas as pd\n",
    "from pandas import Series, DataFrame\n",
    "import numpy as np\n",
    "import matplotlib.pyplot as plt\n",
    "import statsmodels.api as sm\n",
    "import seaborn as sns"
   ]
  },
  {
   "cell_type": "code",
   "execution_count": 71,
   "id": "276c4da3",
   "metadata": {},
   "outputs": [],
   "source": [
    "'''\n",
    "import series/data freme from excel\n",
    "- easy\n",
    "- apply formatting to find date column\n",
    "- look at TA's notes \n",
    "'''\n",
    "\n",
    "hedge_fund = pd.read_excel(io = '../data/proshares_analysis_data.xlsx',\n",
    "                   sheet_name = 'hedge_fund_series',\n",
    "                   index_col=0,\n",
    "                   date_format=[0])\n",
    "\n",
    "summary = {}\n",
    "summary['Annualized mean'] = hedge_fund.mean() * 12\n",
    "summary['Annualized vol'] = hedge_fund.std() * 12**0.5\n",
    "summary['Annualized sharpe'] = summary['Annualized mean'] /  \\\n",
    "                               summary['Annualized vol']\n",
    "hedge_fund_yr = pd.DataFrame(summary)"
   ]
  },
  {
   "cell_type": "markdown",
   "id": "ec8d7c08",
   "metadata": {},
   "source": [
    "## 2.\n",
    "\n",
    "For the series in the \"hedge fund series\" tab, calculate the following statistics related to tail-risk.\n",
    "* Skewness\n",
    "* Excess Kurtosis (in excess of 3)\n",
    "* VaR (.05) - the fifth quantile of historic returns\n",
    "* CVaR (.05) - the mean of the returns at or below the fifth quantile\n",
    "* Maximum drawdown - include the dates of the max/min/recovery within the max drawdown period.\n",
    "\n",
    "There is no need to annualize any of these statistics."
   ]
  },
  {
   "cell_type": "code",
   "execution_count": null,
   "id": "fc88cd61",
   "metadata": {},
   "outputs": [
    {
     "data": {
      "text/html": [
       "<div>\n",
       "<style scoped>\n",
       "    .dataframe tbody tr th:only-of-type {\n",
       "        vertical-align: middle;\n",
       "    }\n",
       "\n",
       "    .dataframe tbody tr th {\n",
       "        vertical-align: top;\n",
       "    }\n",
       "\n",
       "    .dataframe thead th {\n",
       "        text-align: right;\n",
       "    }\n",
       "</style>\n",
       "<table border=\"1\" class=\"dataframe\">\n",
       "  <thead>\n",
       "    <tr style=\"text-align: right;\">\n",
       "      <th></th>\n",
       "      <th>skewness</th>\n",
       "      <th>excess kurtosis</th>\n",
       "      <th>VaR 5%</th>\n",
       "      <th>CVaR &lt;5%</th>\n",
       "      <th>Max Drawdown</th>\n",
       "      <th>Peak</th>\n",
       "      <th>Bottom</th>\n",
       "      <th>Recovery</th>\n",
       "    </tr>\n",
       "  </thead>\n",
       "  <tbody>\n",
       "    <tr>\n",
       "      <th>HFRIFWI Index</th>\n",
       "      <td>-0.979063</td>\n",
       "      <td>5.955123</td>\n",
       "      <td>-0.025324</td>\n",
       "      <td>-0.037478</td>\n",
       "      <td>-0.115473</td>\n",
       "      <td>2021-10-31</td>\n",
       "      <td>2020-03-31</td>\n",
       "      <td>2020-08-31 00:00:00</td>\n",
       "    </tr>\n",
       "    <tr>\n",
       "      <th>MLEIFCTR Index</th>\n",
       "      <td>-0.244981</td>\n",
       "      <td>1.689648</td>\n",
       "      <td>-0.028764</td>\n",
       "      <td>-0.035857</td>\n",
       "      <td>-0.124302</td>\n",
       "      <td>2021-06-30</td>\n",
       "      <td>2022-09-30</td>\n",
       "      <td>-</td>\n",
       "    </tr>\n",
       "    <tr>\n",
       "      <th>MLEIFCTX Index</th>\n",
       "      <td>-0.231032</td>\n",
       "      <td>1.657903</td>\n",
       "      <td>-0.029119</td>\n",
       "      <td>-0.035816</td>\n",
       "      <td>-0.124388</td>\n",
       "      <td>2021-06-30</td>\n",
       "      <td>2022-09-30</td>\n",
       "      <td>-</td>\n",
       "    </tr>\n",
       "    <tr>\n",
       "      <th>HDG US Equity</th>\n",
       "      <td>-0.233880</td>\n",
       "      <td>1.799098</td>\n",
       "      <td>-0.031209</td>\n",
       "      <td>-0.037577</td>\n",
       "      <td>-0.140721</td>\n",
       "      <td>2021-06-30</td>\n",
       "      <td>2022-09-30</td>\n",
       "      <td>-</td>\n",
       "    </tr>\n",
       "    <tr>\n",
       "      <th>QAI US Equity</th>\n",
       "      <td>-0.461338</td>\n",
       "      <td>1.825993</td>\n",
       "      <td>-0.020593</td>\n",
       "      <td>-0.032695</td>\n",
       "      <td>-0.137712</td>\n",
       "      <td>2021-06-30</td>\n",
       "      <td>2022-09-30</td>\n",
       "      <td>-</td>\n",
       "    </tr>\n",
       "  </tbody>\n",
       "</table>\n",
       "</div>"
      ],
      "text/plain": [
       "                skewness  excess kurtosis    VaR 5%  CVaR <5%  Max Drawdown  \\\n",
       "HFRIFWI Index  -0.979063         5.955123 -0.025324 -0.037478     -0.115473   \n",
       "MLEIFCTR Index -0.244981         1.689648 -0.028764 -0.035857     -0.124302   \n",
       "MLEIFCTX Index -0.231032         1.657903 -0.029119 -0.035816     -0.124388   \n",
       "HDG US Equity  -0.233880         1.799098 -0.031209 -0.037577     -0.140721   \n",
       "QAI US Equity  -0.461338         1.825993 -0.020593 -0.032695     -0.137712   \n",
       "\n",
       "                     Peak     Bottom             Recovery  \n",
       "HFRIFWI Index  2021-10-31 2020-03-31  2020-08-31 00:00:00  \n",
       "MLEIFCTR Index 2021-06-30 2022-09-30                    -  \n",
       "MLEIFCTX Index 2021-06-30 2022-09-30                    -  \n",
       "HDG US Equity  2021-06-30 2022-09-30                    -  \n",
       "QAI US Equity  2021-06-30 2022-09-30                    -  "
      ]
     },
     "execution_count": 72,
     "metadata": {},
     "output_type": "execute_result"
    }
   ],
   "source": [
    "# from last year pset\n",
    "stats = {}\n",
    "stats['skewness'] = hedge_fund.skew()\n",
    "stats['excess kurtosis'] = hedge_fund.kurtosis()\n",
    "stats['VaR 5%'] = hedge_fund.quantile(0.05, axis=0) #what does axis do\n",
    "stats['CVaR <5%'] = hedge_fund[hedge_fund <= hedge_fund.quantile(0.05, axis=0)].mean() #how this work\n",
    "\n",
    "# Cumulative returns on $1000\n",
    "wealth_index = 1000 * (1 + hedge_fund).cumprod()\n",
    "\n",
    "previous_peaks = wealth_index.cummax()\n",
    "\n",
    "# Biggest difference between cumulative max and your current wealth\n",
    "drawdowns = (wealth_index - previous_peaks) / previous_peaks\n",
    "\n",
    "stats[\"Max Drawdown\"] = drawdowns.min()\n",
    "stats[\"Peak\"] = previous_peaks.idxmax()\n",
    "stats[\"Bottom\"] = drawdowns.idxmin()\n",
    "\n",
    "# just ripping from sol 2 from last year pset, could not figure it out myself\n",
    "recovery_date = []\n",
    "for col in wealth_index.columns:\n",
    "    prev_max = previous_peaks[col][: drawdowns[col].idxmin()].max()\n",
    "    recovery_wealth = pd.DataFrame([wealth_index[col][drawdowns[col].idxmin() :]]).T\n",
    "    recovery_date.append(\n",
    "        recovery_wealth[recovery_wealth[col] >= prev_max].index.min()\n",
    "    )\n",
    "\n",
    "# Here, we use a list comprehension to check if the recovery date is null,\n",
    "# meaning that the drawdown has not yet recovered.\n",
    "stats[\"Recovery\"] = [\"-\" if pd.isnull(i) else i for i in recovery_date]\n",
    "\n",
    "pd.DataFrame(stats)"
   ]
  },
  {
   "cell_type": "markdown",
   "id": "9deb5072",
   "metadata": {},
   "source": [
    "## 3. \n",
    "\n",
    "For the series in the \"hedge fund series\" tab, run a regression of each against SPY (found in the \"merrill factors\" tab.) Include an intercept. Report the following regression-based statistics:\n",
    "* Market Beta\n",
    "* Treynor Ratio\n",
    "* Information ratio\n",
    "\n",
    "Annualize these three statistics as appropriate."
   ]
  },
  {
   "cell_type": "code",
   "execution_count": 73,
   "id": "10e6bb48",
   "metadata": {},
   "outputs": [
    {
     "data": {
      "text/html": [
       "<div>\n",
       "<style scoped>\n",
       "    .dataframe tbody tr th:only-of-type {\n",
       "        vertical-align: middle;\n",
       "    }\n",
       "\n",
       "    .dataframe tbody tr th {\n",
       "        vertical-align: top;\n",
       "    }\n",
       "\n",
       "    .dataframe thead th {\n",
       "        text-align: right;\n",
       "    }\n",
       "</style>\n",
       "<table border=\"1\" class=\"dataframe\">\n",
       "  <thead>\n",
       "    <tr style=\"text-align: right;\">\n",
       "      <th></th>\n",
       "      <th>beta</th>\n",
       "      <th>TR</th>\n",
       "      <th>IRs</th>\n",
       "    </tr>\n",
       "  </thead>\n",
       "  <tbody>\n",
       "    <tr>\n",
       "      <th>HFRIFWI Index</th>\n",
       "      <td>0.348217</td>\n",
       "      <td>0.119027</td>\n",
       "      <td>-0.109520</td>\n",
       "    </tr>\n",
       "    <tr>\n",
       "      <th>MLEIFCTR Index</th>\n",
       "      <td>0.349859</td>\n",
       "      <td>0.087664</td>\n",
       "      <td>-0.571877</td>\n",
       "    </tr>\n",
       "    <tr>\n",
       "      <th>MLEIFCTX Index</th>\n",
       "      <td>0.348514</td>\n",
       "      <td>0.083896</td>\n",
       "      <td>-0.620547</td>\n",
       "    </tr>\n",
       "    <tr>\n",
       "      <th>HDG US Equity</th>\n",
       "      <td>0.359536</td>\n",
       "      <td>0.054075</td>\n",
       "      <td>-0.964387</td>\n",
       "    </tr>\n",
       "    <tr>\n",
       "      <th>QAI US Equity</th>\n",
       "      <td>0.294096</td>\n",
       "      <td>0.057662</td>\n",
       "      <td>-0.832728</td>\n",
       "    </tr>\n",
       "  </tbody>\n",
       "</table>\n",
       "</div>"
      ],
      "text/plain": [
       "                    beta        TR       IRs\n",
       "HFRIFWI Index   0.348217  0.119027 -0.109520\n",
       "MLEIFCTR Index  0.349859  0.087664 -0.571877\n",
       "MLEIFCTX Index  0.348514  0.083896 -0.620547\n",
       "HDG US Equity   0.359536  0.054075 -0.964387\n",
       "QAI US Equity   0.294096  0.057662 -0.832728"
      ]
     },
     "execution_count": 73,
     "metadata": {},
     "output_type": "execute_result"
    }
   ],
   "source": [
    "spy: Series = pd.read_excel(io = '../data/proshares_analysis_data.xlsx',\n",
    "                   sheet_name = 'merrill_factors',\n",
    "                   index_col=0,\n",
    "                   date_format=[0])['SPY US Equity']\n",
    "\n",
    "betas = {}\n",
    "TRs = {}\n",
    "IRs = {} # Ahhh the IRS\n",
    "\n",
    "# iterate through assets names i (str) and annualize\n",
    "for i in hedge_fund.columns:\n",
    "    reg_i = sm.OLS(hedge_fund[i], sm.add_constant(spy)).fit()\n",
    "    betas[i] = reg_i.params['SPY US Equity']\n",
    "    TRs[i] = hedge_fund[i].mean() * 12 / betas[i]\n",
    "    IRs[i] = reg_i.params['const'] / reg_i.resid.std() * 12**0.5\n",
    "\n",
    "# compile to dataframe\n",
    "risks = {}\n",
    "risks['beta'] = betas\n",
    "risks['TR'] = TRs\n",
    "risks['IRs'] = IRs\n",
    "risks_df = pd.DataFrame(risks) # LEARNED easier way to get dataframe\n",
    "risks_df"
   ]
  },
  {
   "cell_type": "code",
   "execution_count": 74,
   "id": "f2675a5a",
   "metadata": {},
   "outputs": [],
   "source": [
    "# personal helper function for visualizing the linear reg\n",
    "def quick_plot(sm_reg, x: pd.Series, y: pd.Series, x_name = 'SPY US Equity'):\n",
    "    x_values = np.linspace(x.min(), x.max())\n",
    "    y_values = sm_reg.params['const'] + sm_reg.params[x_name] * x_values\n",
    "    plt.scatter(x, y, alpha = 0.6, label=\"data\")\n",
    "    plt.plot(x_values, y_values, color='red', label='reg line')\n",
    "\n",
    "    plt.xlabel(\"SPY Returns\")\n",
    "    plt.ylabel(\"Asset Returns\")\n",
    "    plt.title(\"Linear Regression: Asset ~ SPY\")\n",
    "    plt.legend()\n",
    "    plt.show()\n",
    "    # chatgpt helped in writing this func"
   ]
  },
  {
   "cell_type": "markdown",
   "id": "9dd139ed",
   "metadata": {},
   "source": [
    "## 4. \n",
    "\n",
    "Discuss the previous statistics\n",
    " * beta's tell us for 1% return in market, x return in asset\n",
    " * TR's tell us return-risk of asset return / market exposure (risk)\n",
    " * IR's tell us sharpe ratio of returns unattributed to market (including noise in data)\n",
    "\n",
    "and what they tell us about...\n",
    "* the differences between SPY and the hedge-fund series?\n",
    "    * is the hedge-fund series HRFI?\n",
    "    * roughly 1/3 of growth in hedge-fund series is explained by market. The low TR ratio indicates relatively high market risk in asset. IRs tell me that series typically has negative returns, excluding returns associated with market \n",
    "* which performs better between HDG and QAI.\n",
    "    * I think QAI performs better higher TR that it can have higher returns for same market risk. \n",
    "* whether HDG and the ML series capture the most notable properties of HFRI.\n",
    "    * the ML series seems to have the most similar beta TR and IR to HRFI"
   ]
  },
  {
   "cell_type": "markdown",
   "id": "efc199e0",
   "metadata": {},
   "source": [
    "## 5. \n",
    "\n",
    "Report the correlation matrix for these assets.\n",
    "* Show the correlations as a heat map.\n",
    "* Which series have the highest and lowest correlations?"
   ]
  },
  {
   "cell_type": "code",
   "execution_count": 82,
   "id": "3f798fc9",
   "metadata": {},
   "outputs": [
    {
     "data": {
      "text/plain": [
       "<Axes: >"
      ]
     },
     "execution_count": 82,
     "metadata": {},
     "output_type": "execute_result"
    },
    {
     "data": {
      "image/png": "[encoded data removed]",
      "text/plain": [
       "<Figure size 640x480 with 2 Axes>"
      ]
     },
     "metadata": {},
     "output_type": "display_data"
    }
   ],
   "source": [
    "# from TA Review 1\n",
    "def plot_corr_matrix(corrs):\n",
    "    return sns.heatmap(\n",
    "        corrs,  # The correlation matrix\n",
    "        annot=True,  # Annot means include the correlation values in the heatmap\n",
    "        cmap=\"coolwarm\",  # The color scheme to use\n",
    "        vmin=-1,\n",
    "        vmax=1,  # Specify the max and min values for the color scheme, otherwise they will\n",
    "        # be set to the min and max values of the correlation matrix, which is not\n",
    "        # particularly useful.\n",
    "        linewidths=0.7,  # The width of the lines that will divide each cell, mainly an aesthetic choice,\n",
    "        # but it does make the heatmap easier to read.\n",
    "        annot_kws={\n",
    "            \"size\": 10\n",
    "        },  # Specify the size of the annotation text to avoid overflow into adjacent cells.\n",
    "        fmt=\".2f\",  # Specify the format of the annotation text, in this case, we want to round to 2 decimal places.\n",
    "        # See: https://kuvapcsitrd01.kutztown.edu/~schwesin/fall20/csc223/lectures/Python_String_Formatting.html\n",
    "    )\n",
    "\n",
    "corr_matrix = hedge_fund.corr()\n",
    "plot_corr_matrix(corr_matrix)"
   ]
  },
  {
   "cell_type": "markdown",
   "id": "dbfc63b5",
   "metadata": {},
   "source": [
    "- highest correlation of ~1 for the two ML series\n",
    "- loweest correlation of 0.84 for QAI and HFRIFWI "
   ]
  },
  {
   "cell_type": "markdown",
   "id": "f79554a0",
   "metadata": {},
   "source": [
    "## 6.\n",
    "\n",
    "Replicate HFRI with the six factors listed on the \"merrill factors\" tab. Include a constant, and run the unrestricted regression,\n",
    "\n",
    "$\\newcommand{\\hfri}{\\text{hfri}}$\n",
    "$\\newcommand{\\merr}{\\text{merr}}$\n",
    "\n",
    "$$\\begin{align}\n",
    "r^{\\hfri}_{t} &= \\alpha^{\\merr} + x_{t}^{\\merr}\\beta^{\\merr} + \\epsilon_{t}^{\\merr}\\\\[5pt]\n",
    "\\hat{r}^{\\hfri}_{t} &= \\hat{\\alpha}^{\\merr} + x_{t}^{\\merr}\\hat{\\beta}^{\\merr}\n",
    "\\end{align}$$\n",
    "\n",
    "Note that the second equation is just our notation for the fitted replication.\n",
    "\n",
    "a. Report the intercept and betas.\n",
    "\n",
    "b. Are the betas realistic position sizes, or do they require huge long-short positions?\n",
    "\n",
    "c. Report the R-squared.\n",
    "\n",
    "d. Report the volatility of $\\epsilon^{\\merr}$, the tracking error."
   ]
  },
  {
   "cell_type": "code",
   "execution_count": null,
   "id": "1d5f8d8e",
   "metadata": {},
   "outputs": [
    {
     "name": "stdout",
     "output_type": "stream",
     "text": [
      "a.\n",
      "intercept: 0.001482858667677645\n",
      "SPY US Equity beta: 0.02996270987668183\n",
      "USGG3M Index beta: -0.3709145694289558\n",
      "EEM US Equity beta: 0.07911798262686853\n",
      "EFA US Equity beta: 0.0841610080393073\n",
      "EUO US Equity beta: 0.023105820542603815\n",
      "IWM US Equity beta: 0.15329353460053724\n"
     ]
    }
   ],
   "source": [
    "mer_factors: pd.DataFrame = pd.read_excel(io = '../data/proshares_analysis_data.xlsx',\n",
    "                   sheet_name = 'merrill_factors',\n",
    "                   index_col=0,\n",
    "                   date_format=[0])\n",
    "\n",
    "X_mer: pd.DataFrame = sm.add_constant(mer_factors)\n",
    "y_mer: pd.DataFrame = hedge_fund['HFRIFWI Index']\n",
    "mer_reg = sm.OLS(y_mer, X_mer).fit()\n",
    "\n",
    "print('a.')\n",
    "print(\"intercept:\", mer_reg.params['const'])\n",
    "for i in mer_factors.columns:\n",
    "    print(i, \"beta:\", mer_reg.params[i])\n"
   ]
  },
  {
   "cell_type": "markdown",
   "id": "36c666a0",
   "metadata": {},
   "source": [
    "b. ???????"
   ]
  },
  {
   "cell_type": "code",
   "execution_count": 103,
   "id": "1e8e0947",
   "metadata": {},
   "outputs": [
    {
     "name": "stdout",
     "output_type": "stream",
     "text": [
      "c. r-squared: 0.8360581565663838\n",
      "d. volatility of tracking error: 0.007061704056747993\n"
     ]
    }
   ],
   "source": [
    "print(\"c. r-squared:\", mer_reg.rsquared)\n",
    "print(\"d. volatility of tracking error:\", mer_reg.resid.std())"
   ]
  },
  {
   "cell_type": "markdown",
   "id": "9760f909",
   "metadata": {},
   "source": [
    "## 7.\n",
    "\n",
    "Let's examine the replication out-of-sample (OOS).\n",
    "\n",
    "Starting with $t = 61$ month of the sample, do the following:\n",
    "\n",
    "* Use the previous 60 months of data to estimate the regression equation. \n",
    "This gives time-t estimates of the regression parameters, $\\tilde{\\alpha}^{\\merr}_{t}$ and $\\tilde{\\beta}^{\\merr}_{t}$.\n",
    "\n",
    "* Use the estimated regression parameters, along with the time-t regressor values, $x^{\\merr}_{t}$, calculate the time-t replication value that is, with respect to the regression estimate, built \"out-of-sample\" (OOS).\n",
    "\n",
    "$$\\hat{r}^{\\hfri}_{t} \\equiv \\tilde{\\alpha}^{\\merr} + (x_{t}^{\\merr})'\\tilde{\\beta}^{\\merr}$$\n",
    "\n",
    "* Step forward to $t = 62$, and now use $t = 2$ through $t = 61$ for the estimation. Re-run the steps above, and continue this process throughout the data series. Thus, we are running a rolling, 60-month regression for each point-in-time.\n",
    "\n",
    "How well does the out-of-sample replication perform with respect to the target?"
   ]
  },
  {
   "cell_type": "markdown",
   "id": "f7433d2f",
   "metadata": {},
   "source": [
    "***"
   ]
  },
  {
   "cell_type": "markdown",
   "id": "4f5883f2",
   "metadata": {},
   "source": [
    "# 3.  Extensions\n",
    "<i>**This section is not graded, and you do not need to submit it.** Still, we may discuss it in class some extensions in class.\n",
    "\n",
    "For those looking for a challenge, try a few of these."
   ]
  },
  {
   "cell_type": "markdown",
   "id": "2c042de1",
   "metadata": {},
   "source": [
    "## 1. \n",
    "\n",
    "Merrill constrains the weights of each asset in its replication regression of HFRI. Try constraining your weights by re-doing 2.6.\n",
    "\n",
    "* Use Non-Negative Least Squares (NNLS) instead of OLS.\n",
    "* Go further by using a Generalized Linear Model to put separate interval constraints on each beta, rather than simply constraining them to be non-negative.\n",
    "\n",
    "#### Hints\n",
    "* Try using LinearRegression in scikit-learn with the parameter `positive=True`. \n",
    "* Try using GLM in statsmodels."
   ]
  },
  {
   "cell_type": "markdown",
   "id": "02ee228d",
   "metadata": {},
   "source": [
    "## 2. \n",
    "\n",
    "Let's decompose a few other targets to see if they behave as their name suggests.\n",
    "\n",
    "* Regress HEFA on the same style factors used to decompose HFRI. Does HEFA appear to be a currency-hedged version of EFA?\n",
    "\n",
    "* Decompose TRVCI with the same style factors used to decompose HFRI. The TRVCI Index tracks venture capital funds--in terms of our styles, what best describes venture capital?\n",
    "\n",
    "* TAIL is an ETF that tracks SPY, but that also buys put options to protect against market downturns. Calculate the statistics in questions 2.1-2.3 for TAIL. Does it seem to behave as indicated by this description? That is, does it have high correlation to SPY while delivering lower tail risk?"
   ]
  },
  {
   "cell_type": "markdown",
   "id": "9c20b444",
   "metadata": {},
   "source": [
    "## 3. \n",
    "\n",
    "The ProShares case introduces Levered ETFs. ProShares made much of its name originally through levered, or \"geared\" ETFs.\n",
    "\n",
    "Explain conceptually why Levered ETFs may track their index well for a given day but diverge over time. How is this exacerbated in volatile periods like 2008?"
   ]
  },
  {
   "cell_type": "markdown",
   "id": "3313d36c",
   "metadata": {},
   "source": [
    "## 4.\n",
    "\n",
    "Analyze SPXU and UPRO relative to SPY.\n",
    "- SPXU is ProShares -3x SPX ETF.\n",
    "- UPRO is ProShres +3x SPX ETF.\n",
    "\n",
    "Questions:\n",
    "* Analyze them with the statistics from 2.1-2.3. \n",
    "\n",
    "* Do these two ETFs seem to live up to their names?\n",
    "\n",
    "* Plot the cumulative returns of both these ETFs along with SPY.\n",
    "\n",
    "* What do you conclude about levered ETFs?"
   ]
  },
  {
   "cell_type": "markdown",
   "id": "2ab4084a",
   "metadata": {},
   "source": [
    "## 5.\n",
    "\n",
    "In `Section 2`, we estimated the replications using an intercept. Try the full-sample estimation, but this time without an intercept.\n",
    "\n",
    "$$\\begin{align}\n",
    "r^{\\hfri}_{t} &= \\alpha^{merr} + x_{t}^{\\merr}\\beta^{\\merr} + \\epsilon_{t}^{\\merr}\\\\[5pt]\n",
    "\\check{r}^{\\hfri}_{t} &= \\check{\\alpha}^{\\merr} + x_{t}^{\\merr}\\check{\\beta}^{\\merr}\n",
    "\\end{align}$$\n",
    "\n",
    "Report\n",
    "\n",
    "* the regression beta. How does it compare to the estimated beta with an intercept, $\\hat{\\beta}^{\\merr}$?\n",
    "\n",
    "* the mean of the fitted value, $\\check{r}^{\\hfri}_{t}$. How does it compare to the mean of the HFRI?\n",
    "\n",
    "* the correlations of the fitted values, $\\check{r}^{\\hfri}_{t}$ to the HFRI. How does the correlation compare to that of the fitted values with an intercept, $\\hat{r}^{\\hfri}_{t}$\n",
    "\n",
    "Do you think Merrill and ProShares fit their replicators with an intercept or not?"
   ]
  },
  {
   "cell_type": "markdown",
   "id": "2acea83e",
   "metadata": {},
   "source": [
    "***"
   ]
  }
 ],
 "metadata": {
  "hide_input": false,
  "kernelspec": {
   "display_name": "venv",
   "language": "python",
   "name": "python3"
  },
  "language_info": {
   "codemirror_mode": {
    "name": "ipython",
    "version": 3
   },
   "file_extension": ".py",
   "mimetype": "text/x-python",
   "name": "python",
   "nbconvert_exporter": "python",
   "pygments_lexer": "ipython3",
   "version": "3.10.0"
  }
 },
 "nbformat": 4,
 "nbformat_minor": 5
}
